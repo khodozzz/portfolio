{
  "nbformat": 4,
  "nbformat_minor": 0,
  "metadata": {
    "colab": {
      "provenance": [],
      "authorship_tag": "ABX9TyPOGs6nmxzGL768waJz3pZQ",
      "include_colab_link": true
    },
    "kernelspec": {
      "name": "python3",
      "display_name": "Python 3"
    },
    "language_info": {
      "name": "python"
    }
  },
  "cells": [
    {
      "cell_type": "markdown",
      "metadata": {
        "id": "view-in-github",
        "colab_type": "text"
      },
      "source": [
        "<a href=\"https://colab.research.google.com/github/khodozzz/portfolio/blob/main/2_Countries_Clustering.ipynb\" target=\"_parent\"><img src=\"https://colab.research.google.com/assets/colab-badge.svg\" alt=\"Open In Colab\"/></a>"
      ]
    },
    {
      "cell_type": "code",
      "execution_count": 1,
      "metadata": {
        "id": "RZwMEsM2V9bb"
      },
      "outputs": [],
      "source": [
        "import numpy as np\n",
        "import pandas as pd\n",
        "\n",
        "from sklearn.preprocessing import StandardScaler\n",
        "from sklearn.decomposition import PCA\n",
        "\n",
        "from sklearn.cluster import KMeans\n",
        "from yellowbrick.cluster import KElbowVisualizer\n",
        "\n",
        "import plotly.express as px"
      ]
    },
    {
      "cell_type": "markdown",
      "source": [
        "# Data Loading and Preproccesing"
      ],
      "metadata": {
        "id": "oSjPvv8-WO4C"
      }
    },
    {
      "cell_type": "code",
      "source": [
        "countries_df = pd.read_csv('Country_Dataset.csv')\n",
        "countries_df"
      ],
      "metadata": {
        "colab": {
          "base_uri": "https://localhost:8080/",
          "height": 424
        },
        "id": "A5Mw1y7SWUXL",
        "outputId": "19807c15-409b-430a-960a-bd22b889d6a1"
      },
      "execution_count": 3,
      "outputs": [
        {
          "output_type": "execute_result",
          "data": {
            "text/plain": [
              "                 Country  child_mort  exports  health  imports  income  \\\n",
              "0            Afghanistan        90.2     10.0    7.58     44.9    1610   \n",
              "1                Albania        16.6     28.0    6.55     48.6    9930   \n",
              "2                Algeria        27.3     38.4    4.17     31.4   12900   \n",
              "3                 Angola       119.0     62.3    2.85     42.9    5900   \n",
              "4    Antigua and Barbuda        10.3     45.5    6.03     58.9   19100   \n",
              "..                   ...         ...      ...     ...      ...     ...   \n",
              "162              Vanuatu        29.2     46.6    5.25     52.7    2950   \n",
              "163            Venezuela        17.1     28.5    4.91     17.6   16500   \n",
              "164              Vietnam        23.3     72.0    6.84     80.2    4490   \n",
              "165                Yemen        56.3     30.0    5.18     34.4    4480   \n",
              "166               Zambia        83.1     37.0    5.89     30.9    3280   \n",
              "\n",
              "     inflation  life_expec  total_fer   gdpp  \n",
              "0         9.44        56.2       5.82    553  \n",
              "1         4.49        76.3       1.65   4090  \n",
              "2        16.10        76.5       2.89   4460  \n",
              "3        22.40        60.1       6.16   3530  \n",
              "4         1.44        76.8       2.13  12200  \n",
              "..         ...         ...        ...    ...  \n",
              "162       2.62        63.0       3.50   2970  \n",
              "163      45.90        75.4       2.47  13500  \n",
              "164      12.10        73.1       1.95   1310  \n",
              "165      23.60        67.5       4.67   1310  \n",
              "166      14.00        52.0       5.40   1460  \n",
              "\n",
              "[167 rows x 10 columns]"
            ],
            "text/html": [
              "\n",
              "  <div id=\"df-d58c779d-c00d-4b34-a314-643c828d91c4\">\n",
              "    <div class=\"colab-df-container\">\n",
              "      <div>\n",
              "<style scoped>\n",
              "    .dataframe tbody tr th:only-of-type {\n",
              "        vertical-align: middle;\n",
              "    }\n",
              "\n",
              "    .dataframe tbody tr th {\n",
              "        vertical-align: top;\n",
              "    }\n",
              "\n",
              "    .dataframe thead th {\n",
              "        text-align: right;\n",
              "    }\n",
              "</style>\n",
              "<table border=\"1\" class=\"dataframe\">\n",
              "  <thead>\n",
              "    <tr style=\"text-align: right;\">\n",
              "      <th></th>\n",
              "      <th>Country</th>\n",
              "      <th>child_mort</th>\n",
              "      <th>exports</th>\n",
              "      <th>health</th>\n",
              "      <th>imports</th>\n",
              "      <th>income</th>\n",
              "      <th>inflation</th>\n",
              "      <th>life_expec</th>\n",
              "      <th>total_fer</th>\n",
              "      <th>gdpp</th>\n",
              "    </tr>\n",
              "  </thead>\n",
              "  <tbody>\n",
              "    <tr>\n",
              "      <th>0</th>\n",
              "      <td>Afghanistan</td>\n",
              "      <td>90.2</td>\n",
              "      <td>10.0</td>\n",
              "      <td>7.58</td>\n",
              "      <td>44.9</td>\n",
              "      <td>1610</td>\n",
              "      <td>9.44</td>\n",
              "      <td>56.2</td>\n",
              "      <td>5.82</td>\n",
              "      <td>553</td>\n",
              "    </tr>\n",
              "    <tr>\n",
              "      <th>1</th>\n",
              "      <td>Albania</td>\n",
              "      <td>16.6</td>\n",
              "      <td>28.0</td>\n",
              "      <td>6.55</td>\n",
              "      <td>48.6</td>\n",
              "      <td>9930</td>\n",
              "      <td>4.49</td>\n",
              "      <td>76.3</td>\n",
              "      <td>1.65</td>\n",
              "      <td>4090</td>\n",
              "    </tr>\n",
              "    <tr>\n",
              "      <th>2</th>\n",
              "      <td>Algeria</td>\n",
              "      <td>27.3</td>\n",
              "      <td>38.4</td>\n",
              "      <td>4.17</td>\n",
              "      <td>31.4</td>\n",
              "      <td>12900</td>\n",
              "      <td>16.10</td>\n",
              "      <td>76.5</td>\n",
              "      <td>2.89</td>\n",
              "      <td>4460</td>\n",
              "    </tr>\n",
              "    <tr>\n",
              "      <th>3</th>\n",
              "      <td>Angola</td>\n",
              "      <td>119.0</td>\n",
              "      <td>62.3</td>\n",
              "      <td>2.85</td>\n",
              "      <td>42.9</td>\n",
              "      <td>5900</td>\n",
              "      <td>22.40</td>\n",
              "      <td>60.1</td>\n",
              "      <td>6.16</td>\n",
              "      <td>3530</td>\n",
              "    </tr>\n",
              "    <tr>\n",
              "      <th>4</th>\n",
              "      <td>Antigua and Barbuda</td>\n",
              "      <td>10.3</td>\n",
              "      <td>45.5</td>\n",
              "      <td>6.03</td>\n",
              "      <td>58.9</td>\n",
              "      <td>19100</td>\n",
              "      <td>1.44</td>\n",
              "      <td>76.8</td>\n",
              "      <td>2.13</td>\n",
              "      <td>12200</td>\n",
              "    </tr>\n",
              "    <tr>\n",
              "      <th>...</th>\n",
              "      <td>...</td>\n",
              "      <td>...</td>\n",
              "      <td>...</td>\n",
              "      <td>...</td>\n",
              "      <td>...</td>\n",
              "      <td>...</td>\n",
              "      <td>...</td>\n",
              "      <td>...</td>\n",
              "      <td>...</td>\n",
              "      <td>...</td>\n",
              "    </tr>\n",
              "    <tr>\n",
              "      <th>162</th>\n",
              "      <td>Vanuatu</td>\n",
              "      <td>29.2</td>\n",
              "      <td>46.6</td>\n",
              "      <td>5.25</td>\n",
              "      <td>52.7</td>\n",
              "      <td>2950</td>\n",
              "      <td>2.62</td>\n",
              "      <td>63.0</td>\n",
              "      <td>3.50</td>\n",
              "      <td>2970</td>\n",
              "    </tr>\n",
              "    <tr>\n",
              "      <th>163</th>\n",
              "      <td>Venezuela</td>\n",
              "      <td>17.1</td>\n",
              "      <td>28.5</td>\n",
              "      <td>4.91</td>\n",
              "      <td>17.6</td>\n",
              "      <td>16500</td>\n",
              "      <td>45.90</td>\n",
              "      <td>75.4</td>\n",
              "      <td>2.47</td>\n",
              "      <td>13500</td>\n",
              "    </tr>\n",
              "    <tr>\n",
              "      <th>164</th>\n",
              "      <td>Vietnam</td>\n",
              "      <td>23.3</td>\n",
              "      <td>72.0</td>\n",
              "      <td>6.84</td>\n",
              "      <td>80.2</td>\n",
              "      <td>4490</td>\n",
              "      <td>12.10</td>\n",
              "      <td>73.1</td>\n",
              "      <td>1.95</td>\n",
              "      <td>1310</td>\n",
              "    </tr>\n",
              "    <tr>\n",
              "      <th>165</th>\n",
              "      <td>Yemen</td>\n",
              "      <td>56.3</td>\n",
              "      <td>30.0</td>\n",
              "      <td>5.18</td>\n",
              "      <td>34.4</td>\n",
              "      <td>4480</td>\n",
              "      <td>23.60</td>\n",
              "      <td>67.5</td>\n",
              "      <td>4.67</td>\n",
              "      <td>1310</td>\n",
              "    </tr>\n",
              "    <tr>\n",
              "      <th>166</th>\n",
              "      <td>Zambia</td>\n",
              "      <td>83.1</td>\n",
              "      <td>37.0</td>\n",
              "      <td>5.89</td>\n",
              "      <td>30.9</td>\n",
              "      <td>3280</td>\n",
              "      <td>14.00</td>\n",
              "      <td>52.0</td>\n",
              "      <td>5.40</td>\n",
              "      <td>1460</td>\n",
              "    </tr>\n",
              "  </tbody>\n",
              "</table>\n",
              "<p>167 rows × 10 columns</p>\n",
              "</div>\n",
              "      <button class=\"colab-df-convert\" onclick=\"convertToInteractive('df-d58c779d-c00d-4b34-a314-643c828d91c4')\"\n",
              "              title=\"Convert this dataframe to an interactive table.\"\n",
              "              style=\"display:none;\">\n",
              "        \n",
              "  <svg xmlns=\"http://www.w3.org/2000/svg\" height=\"24px\"viewBox=\"0 0 24 24\"\n",
              "       width=\"24px\">\n",
              "    <path d=\"M0 0h24v24H0V0z\" fill=\"none\"/>\n",
              "    <path d=\"M18.56 5.44l.94 2.06.94-2.06 2.06-.94-2.06-.94-.94-2.06-.94 2.06-2.06.94zm-11 1L8.5 8.5l.94-2.06 2.06-.94-2.06-.94L8.5 2.5l-.94 2.06-2.06.94zm10 10l.94 2.06.94-2.06 2.06-.94-2.06-.94-.94-2.06-.94 2.06-2.06.94z\"/><path d=\"M17.41 7.96l-1.37-1.37c-.4-.4-.92-.59-1.43-.59-.52 0-1.04.2-1.43.59L10.3 9.45l-7.72 7.72c-.78.78-.78 2.05 0 2.83L4 21.41c.39.39.9.59 1.41.59.51 0 1.02-.2 1.41-.59l7.78-7.78 2.81-2.81c.8-.78.8-2.07 0-2.86zM5.41 20L4 18.59l7.72-7.72 1.47 1.35L5.41 20z\"/>\n",
              "  </svg>\n",
              "      </button>\n",
              "      \n",
              "  <style>\n",
              "    .colab-df-container {\n",
              "      display:flex;\n",
              "      flex-wrap:wrap;\n",
              "      gap: 12px;\n",
              "    }\n",
              "\n",
              "    .colab-df-convert {\n",
              "      background-color: #E8F0FE;\n",
              "      border: none;\n",
              "      border-radius: 50%;\n",
              "      cursor: pointer;\n",
              "      display: none;\n",
              "      fill: #1967D2;\n",
              "      height: 32px;\n",
              "      padding: 0 0 0 0;\n",
              "      width: 32px;\n",
              "    }\n",
              "\n",
              "    .colab-df-convert:hover {\n",
              "      background-color: #E2EBFA;\n",
              "      box-shadow: 0px 1px 2px rgba(60, 64, 67, 0.3), 0px 1px 3px 1px rgba(60, 64, 67, 0.15);\n",
              "      fill: #174EA6;\n",
              "    }\n",
              "\n",
              "    [theme=dark] .colab-df-convert {\n",
              "      background-color: #3B4455;\n",
              "      fill: #D2E3FC;\n",
              "    }\n",
              "\n",
              "    [theme=dark] .colab-df-convert:hover {\n",
              "      background-color: #434B5C;\n",
              "      box-shadow: 0px 1px 3px 1px rgba(0, 0, 0, 0.15);\n",
              "      filter: drop-shadow(0px 1px 2px rgba(0, 0, 0, 0.3));\n",
              "      fill: #FFFFFF;\n",
              "    }\n",
              "  </style>\n",
              "\n",
              "      <script>\n",
              "        const buttonEl =\n",
              "          document.querySelector('#df-d58c779d-c00d-4b34-a314-643c828d91c4 button.colab-df-convert');\n",
              "        buttonEl.style.display =\n",
              "          google.colab.kernel.accessAllowed ? 'block' : 'none';\n",
              "\n",
              "        async function convertToInteractive(key) {\n",
              "          const element = document.querySelector('#df-d58c779d-c00d-4b34-a314-643c828d91c4');\n",
              "          const dataTable =\n",
              "            await google.colab.kernel.invokeFunction('convertToInteractive',\n",
              "                                                     [key], {});\n",
              "          if (!dataTable) return;\n",
              "\n",
              "          const docLinkHtml = 'Like what you see? Visit the ' +\n",
              "            '<a target=\"_blank\" href=https://colab.research.google.com/notebooks/data_table.ipynb>data table notebook</a>'\n",
              "            + ' to learn more about interactive tables.';\n",
              "          element.innerHTML = '';\n",
              "          dataTable['output_type'] = 'display_data';\n",
              "          await google.colab.output.renderOutput(dataTable, element);\n",
              "          const docLink = document.createElement('div');\n",
              "          docLink.innerHTML = docLinkHtml;\n",
              "          element.appendChild(docLink);\n",
              "        }\n",
              "      </script>\n",
              "    </div>\n",
              "  </div>\n",
              "  "
            ]
          },
          "metadata": {},
          "execution_count": 3
        }
      ]
    },
    {
      "cell_type": "markdown",
      "source": [
        "Extracting feature matrix X and country names"
      ],
      "metadata": {
        "id": "Y3P4Dh-7Wbxk"
      }
    },
    {
      "cell_type": "code",
      "source": [
        "X = countries_df.drop(columns=['Country']).values\n",
        "names = countries_df['Country']"
      ],
      "metadata": {
        "id": "k4vtCuxbYQ7X"
      },
      "execution_count": 4,
      "outputs": []
    },
    {
      "cell_type": "markdown",
      "source": [
        "Standardize the features"
      ],
      "metadata": {
        "id": "h3V5hw5WWmNb"
      }
    },
    {
      "cell_type": "code",
      "source": [
        "scaler = StandardScaler()\n",
        "X_scaled = scaler.fit_transform(X)"
      ],
      "metadata": {
        "id": "bTI9wALbYiTM"
      },
      "execution_count": 6,
      "outputs": []
    },
    {
      "cell_type": "markdown",
      "source": [
        "Perform PCA"
      ],
      "metadata": {
        "id": "hvpjBVZ4Wm9X"
      }
    },
    {
      "cell_type": "code",
      "source": [
        "pca = PCA(n_components=3)\n",
        "pca.fit(X_scaled.T)\n",
        "\n",
        "print(pca.explained_variance_ratio_, '->', sum(pca.explained_variance_ratio_))"
      ],
      "metadata": {
        "colab": {
          "base_uri": "https://localhost:8080/"
        },
        "id": "kUwHgCzmaXGe",
        "outputId": "542eb57c-7c5d-421e-b3f6-96c401f337ab"
      },
      "execution_count": 7,
      "outputs": [
        {
          "output_type": "stream",
          "name": "stdout",
          "text": [
            "[0.49347507 0.18184637 0.14685152] -> 0.82217295694246\n"
          ]
        }
      ]
    },
    {
      "cell_type": "code",
      "source": [
        "X_reduced = pca.components_.T"
      ],
      "metadata": {
        "id": "N0gm8vVjac4C"
      },
      "execution_count": 8,
      "outputs": []
    },
    {
      "cell_type": "markdown",
      "source": [
        "# Model Training and Evaluating"
      ],
      "metadata": {
        "id": "kMVHEybSW2HY"
      }
    },
    {
      "cell_type": "code",
      "source": [
        "model = KMeans(n_init='auto')"
      ],
      "metadata": {
        "id": "bm8HyE0SXBgr"
      },
      "execution_count": 10,
      "outputs": []
    },
    {
      "cell_type": "markdown",
      "source": [
        "Determine the optimal number of clusters using the Elbow method"
      ],
      "metadata": {
        "id": "XRIEtx6mW73x"
      }
    },
    {
      "cell_type": "code",
      "source": [
        "visualizer = KElbowVisualizer(model, k=(4,20))\n",
        "visualizer.fit(X_reduced)        \n",
        "visualizer.show()  "
      ],
      "metadata": {
        "colab": {
          "base_uri": "https://localhost:8080/",
          "height": 541
        },
        "id": "_Xlx42CjgEew",
        "outputId": "db7a8b7b-453a-4c96-9ed9-a5016ae8ba3c"
      },
      "execution_count": 9,
      "outputs": [
        {
          "output_type": "display_data",
          "data": {
            "text/plain": [
              "<Figure size 800x550 with 2 Axes>"
            ],
            "image/png": "[encoded data removed]"
          },
          "metadata": {}
        },
        {
          "output_type": "execute_result",
          "data": {
            "text/plain": [
              "<Axes: title={'center': 'Distortion Score Elbow for KMeans Clustering'}, xlabel='k', ylabel='distortion score'>"
            ]
          },
          "metadata": {},
          "execution_count": 9
        }
      ]
    },
    {
      "cell_type": "code",
      "source": [
        "n_clusters = visualizer.elbow_value_"
      ],
      "metadata": {
        "id": "bdMfaN_bX4Fz"
      },
      "execution_count": 14,
      "outputs": []
    },
    {
      "cell_type": "markdown",
      "source": [
        "Perform K-means clustering with the optimal number of clusters"
      ],
      "metadata": {
        "id": "8cv6teqLXMAJ"
      }
    },
    {
      "cell_type": "code",
      "source": [
        "model = KMeans(n_init='auto', n_clusters=n_clusters)\n",
        "model.fit(X_reduced)\n",
        "labels = model.labels_"
      ],
      "metadata": {
        "id": "BnB8JQdLZ5b0"
      },
      "execution_count": 11,
      "outputs": []
    },
    {
      "cell_type": "markdown",
      "source": [
        "Create an interactive 3D scatter plot "
      ],
      "metadata": {
        "id": "g_fLCvj_XQkV"
      }
    },
    {
      "cell_type": "code",
      "source": [
        "fig = px.scatter_3d(x=X_reduced[:, 0], \n",
        "                    y=X_reduced[:, 1], \n",
        "                    z=X_reduced[:, 2],\n",
        "                    color=labels, \n",
        "                    hover_name=names)\n",
        "# fig.write_html('clusters.html')\n",
        "fig.show()"
      ],
      "metadata": {
        "colab": {
          "base_uri": "https://localhost:8080/",
          "height": 542
        },
        "id": "uKrvAKOtdULi",
        "outputId": "b3f338bc-a4b4-4dea-f165-446a36f159f4"
      },
      "execution_count": 12,
      "outputs": [
        {
          "output_type": "display_data",
          "data": {
            "text/html": [
              "<html>\n",
              "<head><meta charset=\"utf-8\" /></head>\n",
              "<body>\n",
              "    <div>            <script src=\"https://cdnjs.cloudflare.com/ajax/libs/mathjax/2.7.5/MathJax.js?config=TeX-AMS-MML_SVG\"></script><script type=\"text/javascript\">if (window.MathJax && window.MathJax.Hub && window.MathJax.Hub.Config) {window.MathJax.Hub.Config({SVG: {font: \"STIX-Web\"}});}</script>                <script type=\"text/javascript\">window.PlotlyConfig = {MathJaxConfig: 'local'};</script>\n",
              "        <script src=\"https://cdn.plot.ly/plotly-2.18.2.min.js\"></script>                <div id=\"e4422532-491c-46c4-897f-6d91ed74a11b\" class=\"plotly-graph-div\" style=\"height:525px; width:100%;\"></div>            <script type=\"text/javascript\">                                    window.PLOTLYENV=window.PLOTLYENV || {};                                    if (document.getElementById(\"e4422532-491c-46c4-897f-6d91ed74a11b\")) {                    Plotly.newPlot(                        \"e4422532-491c-46c4-897f-6d91ed74a11b\",                        [{\"hovertemplate\":\"<b>%{hovertext}</b><br><br>x=%{x}<br>y=%{y}<br>z=%{z}<br>color=%{marker.color}<extra></extra>\",\"hovertext\":[\"Afghanistan\",\"Albania\",\"Algeria\",\"Angola\",\"Antigua and Barbuda\",\"Argentina\",\"Armenia\",\"Australia\",\"Austria\",\"Azerbaijan\",\"Bahamas\",\"Bahrain\",\"Bangladesh\",\"Barbados\",\"Belarus\",\"Belgium\",\"Belize\",\"Benin\",\"Bhutan\",\"Bolivia\",\"Bosnia and Herzegovina\",\"Botswana\",\"Brazil\",\"Brunei\",\"Bulgaria\",\"Burkina Faso\",\"Burundi\",\"Cambodia\",\"Cameroon\",\"Canada\",\"Cape Verde\",\"Central African Republic\",\"Chad\",\"Chile\",\"China\",\"Colombia\",\"Comoros\",\"Congo, Dem. Rep.\",\"Congo, Rep.\",\"Costa Rica\",\"Cote d'Ivoire\",\"Croatia\",\"Cyprus\",\"Czech Republic\",\"Denmark\",\"Dominican Republic\",\"Ecuador\",\"Egypt\",\"El Salvador\",\"Equatorial Guinea\",\"Eritrea\",\"Estonia\",\"Fiji\",\"Finland\",\"France\",\"Gabon\",\"Gambia\",\"Georgia\",\"Germany\",\"Ghana\",\"Greece\",\"Grenada\",\"Guatemala\",\"Guinea\",\"Guinea-Bissau\",\"Guyana\",\"Haiti\",\"Hungary\",\"Iceland\",\"India\",\"Indonesia\",\"Iran\",\"Iraq\",\"Ireland\",\"Israel\",\"Italy\",\"Jamaica\",\"Japan\",\"Jordan\",\"Kazakhstan\",\"Kenya\",\"Kiribati\",\"Kuwait\",\"Kyrgyz Republic\",\"Lao\",\"Latvia\",\"Lebanon\",\"Lesotho\",\"Liberia\",\"Libya\",\"Lithuania\",\"Luxembourg\",\"Macedonia, FYR\",\"Madagascar\",\"Malawi\",\"Malaysia\",\"Maldives\",\"Mali\",\"Malta\",\"Mauritania\",\"Mauritius\",\"Micronesia, Fed. Sts.\",\"Moldova\",\"Mongolia\",\"Montenegro\",\"Morocco\",\"Mozambique\",\"Myanmar\",\"Namibia\",\"Nepal\",\"Netherlands\",\"New Zealand\",\"Niger\",\"Nigeria\",\"Norway\",\"Oman\",\"Pakistan\",\"Panama\",\"Paraguay\",\"Peru\",\"Philippines\",\"Poland\",\"Portugal\",\"Qatar\",\"Romania\",\"Russia\",\"Rwanda\",\"Samoa\",\"Saudi Arabia\",\"Senegal\",\"Serbia\",\"Seychelles\",\"Sierra Leone\",\"Singapore\",\"Slovak Republic\",\"Slovenia\",\"Solomon Islands\",\"South Africa\",\"South Korea\",\"Spain\",\"Sri Lanka\",\"St. Vincent and the Grenadines\",\"Sudan\",\"Suriname\",\"Sweden\",\"Switzerland\",\"Tajikistan\",\"Tanzania\",\"Thailand\",\"Timor-Leste\",\"Togo\",\"Tonga\",\"Tunisia\",\"Turkey\",\"Turkmenistan\",\"Uganda\",\"Ukraine\",\"United Arab Emirates\",\"United Kingdom\",\"United States\",\"Uruguay\",\"Uzbekistan\",\"Vanuatu\",\"Venezuela\",\"Vietnam\",\"Yemen\",\"Zambia\"],\"legendgroup\":\"\",\"marker\":{\"color\":[2,5,1,7,0,1,7,3,3,1,5,7,1,5,7,0,0,2,0,7,5,0,3,1,0,2,2,0,2,3,0,2,2,5,5,5,2,2,7,5,2,5,5,0,3,5,5,1,5,7,1,0,0,3,3,1,2,5,3,2,3,5,5,2,2,0,6,0,5,7,1,1,2,0,5,3,7,3,0,1,2,6,1,0,7,0,0,6,6,7,0,4,0,2,2,7,0,2,4,7,0,6,0,1,0,0,2,1,0,1,3,3,2,1,3,1,1,0,0,5,7,5,3,1,5,1,2,0,1,2,5,4,2,4,0,0,6,2,5,3,1,0,2,5,3,3,2,2,7,2,6,0,0,5,7,2,0,7,3,3,5,1,0,1,0,1,2],\"coloraxis\":\"coloraxis\",\"symbol\":\"circle\"},\"mode\":\"markers\",\"name\":\"\",\"scene\":\"scene\",\"showlegend\":false,\"x\":[0.11599144872096989,-0.0273059762008067,0.006144840166225278,0.12938037237252215,-0.04466730716402857,-0.005941459737908709,-0.010266137800391428,-0.09185313313066445,-0.1077170766984173,0.001455446056644038,-0.053936673569595577,-0.06144931481587081,0.027273577570864443,-0.047853635977180634,-0.025832228061019084,-0.10618552464761287,-0.013888413786880759,0.10247508512383859,0.0031687046884343963,0.02506047935125072,-0.046703492002916326,0.03424191485726536,-0.017874769812306148,-0.08640388218030139,-0.04287354391981975,0.12423988225631644,0.12145676742761163,0.018570479632043915,0.10573988832050002,-0.09519483280070921,-0.003548034910086647,0.15019244309194577,0.14873105201021525,-0.042341952054977434,-0.018440161804753163,-0.01920558787206581,0.07943353842930577,0.14051698296704462,0.07714655802218207,-0.04091936203435444,0.1055244719250374,-0.05375061174521733,-0.08484493210565469,-0.07936696696153878,-0.10554474775083071,-0.00015135096240019317,-0.007012324598352164,0.022234137229532963,-0.013572518816416789,0.0777239179956291,0.08429225949944254,-0.06408332037905884,0.002444666708009605,-0.09320846793447464,-0.08557104454450755,0.05617253897873189,0.086932460309919,-0.016799490047244417,-0.09989619167967603,0.0811578884684615,-0.07473914075331058,-0.017698533896180306,0.018615134374682686,0.12127384975734137,0.11081339647309915,0.011307995747798609,0.1764369428013257,-0.0690829983907097,-0.08834389923555089,0.04014498544420234,0.024029104708810815,-0.010598318872542908,0.044243674618715485,-0.12241810360822873,-0.05818999024364841,-0.08784104447849364,-0.009504739050932475,-0.09477193577721614,-0.0018165717866463586,0.007412390635749102,0.06408423423288778,0.050623720090292944,-0.08762440671165217,0.014990160054167121,0.05623696564041184,-0.05372163130900631,-0.05249349340826195,0.07991977762356747,0.08194718950180016,-0.03077114525348921,-0.05639268393164235,-0.2126217218980438,-0.037545230182558634,0.07773552155127958,0.11660229193852814,-0.04510325248764034,-0.04271024457444957,0.13860587226683815,-0.11252569591014626,0.08817268727342366,-0.04129865980474364,0.02080241349642568,-0.019826935774848446,0.04286057828063362,-0.04487453757237634,-0.0015456253865792505,0.11621287706644448,0.04897546703244822,0.04066289447516633,0.04063448003660037,-0.11510455744950798,-0.07045394247144907,0.14254858883950747,0.229623838452067,-0.12948045958643478,-0.038875539443491015,0.08265967894846087,-0.03937481639944853,-0.008249270260138442,-0.011505228986298102,0.019002563820330783,-0.05568529326701066,-0.07457888866178845,-0.1474149885716955,-0.03435820036807782,-0.018119725336852115,0.061722524703680386,0.017085227551428807,-0.02924180812151348,0.0706872502916995,-0.03899378705901519,-0.05732797713084848,0.1475077632042734,-0.17996510194588222,-0.07427430313701379,-0.08535626715753253,0.03572331530364259,0.03886039908188331,-0.07786675480339808,-0.08394629910632925,0.010204457789943552,-0.01161983899237969,0.09064659163334297,-0.01045725276486685,-0.10249568026431709,-0.14061782129108555,0.045672321266243626,0.09670100805195264,-0.04194258232140087,0.1008611890045795,0.08136731765241535,0.020833666413670283,-0.028745664814039448,-0.02527068460609972,0.01487194883570571,0.11419270349732462,-0.017515125143998972,-0.08274265502248618,-0.08077558786424345,-0.09513713141026303,-0.033263015690218375,0.024696058449252385,0.0250746744223052,0.02442775487609588,-0.01614935275421735,0.07593794977089655,0.11321541184699188],\"y\":[-0.016630133191656547,-0.0041397225314368695,-0.01953100917948629,0.059124738801712595,0.032354741640889716,-0.11640182583539929,0.0018919446567873918,-0.1369726859059091,-0.06362974213438068,-0.018306543118034552,-0.029324351414246486,0.035001698095573186,-0.02836299430584612,-0.008446916796900147,0.051739872863040534,0.018640911634745887,0.07229429613938507,0.021259062528017708,0.0707197569791981,0.005872073231370693,-0.03302923052269236,0.024770653700392664,-0.12026293585296897,-0.03102855714300759,0.03272705089932299,-0.022709350261830852,-0.06869419079920724,0.07733761126399775,-0.0019166494283320511,-0.12681906575383234,0.057918254166517955,0.011216816840646656,0.044248569874677124,-0.05567941996746237,-0.03900879620065697,-0.0833908002236036,0.023711420260703567,0.010537398314034309,0.1155082371104485,-0.07273804194144083,0.05739850686648138,-0.02726108739909105,0.010947592339095256,0.04309453845031417,-0.08659904695059488,-0.03579921390498134,-0.05152188163065808,-0.03385974506402148,-0.005122979022771397,0.07653354946839058,-0.0280451911374955,0.08476989257001899,0.0920642928785459,-0.07708023737251932,-0.13134907007221905,0.004160624699831972,0.005672740950338931,-0.016757086742530347,-0.09256574277727417,0.012159381826952946,-0.10184153697342921,0.006648226331882315,-0.023879414076403795,0.018450672268523594,-0.023491287191745317,0.10467599618725973,0.07949655869602597,0.09921564939698801,-0.05900923569276812,-0.0129300212591178,-0.024203602924698434,-0.06864095879506193,-0.03876774300578888,0.08627128357646999,-0.06763093300267559,-0.10901934287302664,0.011608897898013278,-0.1502023069977853,0.03653733936350694,-0.01399176139698689,0.002679621627640081,0.021422779921276783,-0.021010010898234115,0.09413405345833278,0.04113348776269101,0.041797193328202746,0.015278205304566415,0.11286447430746499,0.040660628169952764,0.026445762385156137,0.06771583194521923,0.2114900728563044,0.028648089955027795,0.027345191086162502,-0.006586605139903217,0.11702561059460576,0.08562043055631081,0.006183130977620225,0.2913227522970266,0.05898402604224427,0.0569781878641048,-0.0007132449483208535,0.023801468657323282,0.01263082259648227,0.009064803354147308,0.013573775865416863,0.03943885273484044,-0.0673693414089978,0.06610443528999525,-0.03394341373554708,-0.022453499722709727,-0.10725231543034094,0.030407118065743498,-0.15970300445116617,-0.14707777825422236,0.01929923515750297,-0.02418854145080182,0.07984707961484694,0.04250793808065031,-0.04072268214464488,0.022147192490557844,-0.015563797532771201,-0.08124191072169987,-0.07352946763409575,-0.008073241877633964,-0.050100835681862625,-0.0669853811231409,0.01507636791211788,-0.02898088583761309,0.009157049117115486,-0.03360988946037996,0.21422437007394457,-0.07940547299183177,0.38848883110559973,0.07855190379758627,0.020951182338077357,0.0831258083273938,-0.03263576254678519,-0.011020322954882958,-0.10378557486445461,-0.042403624273346804,0.03215256409604815,-0.0708633063480142,0.004747357785530274,-0.07708601191146226,-0.07128767326691367,0.004578711998232441,-0.023858556261009124,0.08656769775678369,-0.11933328655485666,0.051481930104608976,0.018863778308659127,0.037764106133488726,-0.07100284272472729,0.09966821901072223,-0.05119741941094538,0.013620190051501786,0.05306152495949429,-0.10261825496480725,-0.22971774044289606,-0.0724498796718163,-0.02829199126982282,0.062172718381283264,-0.10880394367608734,0.10244216201211662,-0.02606258636330036,0.0076929083361989],\"z\":[0.06519198271612617,0.00908981682758726,-0.09545324367426267,-0.09955452925994869,0.0026147470759740653,-0.052965764278066846,-0.03657242639007525,0.007695124212009149,0.05576713187858212,-0.06622182957214033,0.035646776582523354,-0.07605303272167312,-0.05205854523412273,0.04052575156000927,-0.05043659968382353,0.058955615565392805,0.00015682566645276597,0.019224913569178863,0.0022786078021636126,-0.03794988070116032,0.10342427607944836,0.044346419922911745,0.017670576600321102,-0.20420051862876562,0.017871667669154757,0.04746524733097326,0.12541663721694146,0.019580759447494066,0.029638516561415036,0.0528294549071812,-0.001094491988600971,0.03094591712548245,0.01977583644110482,-0.01207445255138121,-0.045064157942851166,0.013146474997594826,0.020036892886829777,0.022450888986721918,-0.11407730215936387,0.0612595231854255,0.020592934476877302,0.021907288658427046,-0.024066171483930743,0.029782454671280607,0.051664020652547785,-0.0036288797614972175,0.01737268256846632,-0.04915627162861198,0.0285128637261622,-0.10716808289334595,-0.06265461720034643,-0.009089364770968148,-0.005931042277548133,0.022161701387123284,0.07437914813367852,-0.10751166789791022,0.03143131909222881,0.06563082146539977,0.0662760214513866,-0.028469449702443164,0.05790741340758913,0.019169283589367137,0.019468409558824687,-0.0195903463354523,0.10083951360665311,0.01562712417416838,0.11859698251999787,0.01637392239033686,0.008335256425733954,-0.043692600063893396,-0.11129210639741798,-0.07755669478076734,-0.0021658218313196425,0.04382449628718086,0.0024885048374285127,0.03266859274929019,-0.03975607027888846,0.03316209607573211,0.03457722107594992,-0.11070158523400996,0.012332067020146078,0.17503158195390678,-0.18011670602330795,0.015193485182802705,-0.018038140327771682,0.018677289924535944,0.0294408197582697,0.18358682001529766,0.18454046262581658,-0.11509420556600546,0.014297092213699635,-0.04543373263762281,0.029882044128778238,-0.02327444997572659,0.02537021107051672,-0.05954613841550018,0.0003707356960290757,0.03069103289515841,0.05042559555471443,-0.050520745433898936,0.008871328814836571,0.20476401488777077,0.10657599334790172,-0.13340294953964787,0.06907999885602445,0.003095989923448688,0.02325932722864741,-0.08427097629606223,0.04780193715884743,-0.03460194928030386,0.07365072727850339,0.03470018810662686,0.05367032537712506,-0.3792398452326796,-0.020318175133231243,-0.1551958365639529,-0.07678751765363194,0.04533567593274873,-0.011084675531483644,-0.04005828244060447,-0.038515998978001176,0.013328188819034137,0.07445798438704179,-0.22844529061073457,-0.020063964704999705,-0.08354088269492367,0.11744658904736202,0.03756688841515957,-0.13060384002956485,0.034998613448906875,0.06877969542673834,-0.005284045175259179,0.13787813144851918,-0.06975762228603057,0.05094589053053109,0.054592560151412985,0.08232373409598963,0.05808117555453066,-0.015987125323671584,0.03611256590827888,-0.13824210629654704,-0.015902739614226273,-0.0394573728488465,-0.006226905477665684,0.027050952024626564,0.05153144329222059,0.005443589569482734,0.013385878046339407,-0.050657525554263595,-0.0012974829223505496,0.08994319958993058,0.017551048087994976,0.0008490874786025738,-0.018731168419966096,-0.0626203539006219,0.07025474177654258,-0.00474171124078003,-0.13053243097054443,0.03373666192700221,0.17328579154512944,0.017184586744259128,-0.05076595641547652,0.0133130657326321,-0.21008938071503952,-0.0013520651704874587,-0.07405079081290922,-0.0063846302583176265],\"type\":\"scatter3d\"}],                        {\"template\":{\"data\":{\"histogram2dcontour\":[{\"type\":\"histogram2dcontour\",\"colorbar\":{\"outlinewidth\":0,\"ticks\":\"\"},\"colorscale\":[[0.0,\"#0d0887\"],[0.1111111111111111,\"#46039f\"],[0.2222222222222222,\"#7201a8\"],[0.3333333333333333,\"#9c179e\"],[0.4444444444444444,\"#bd3786\"],[0.5555555555555556,\"#d8576b\"],[0.6666666666666666,\"#ed7953\"],[0.7777777777777778,\"#fb9f3a\"],[0.8888888888888888,\"#fdca26\"],[1.0,\"#f0f921\"]]}],\"choropleth\":[{\"type\":\"choropleth\",\"colorbar\":{\"outlinewidth\":0,\"ticks\":\"\"}}],\"histogram2d\":[{\"type\":\"histogram2d\",\"colorbar\":{\"outlinewidth\":0,\"ticks\":\"\"},\"colorscale\":[[0.0,\"#0d0887\"],[0.1111111111111111,\"#46039f\"],[0.2222222222222222,\"#7201a8\"],[0.3333333333333333,\"#9c179e\"],[0.4444444444444444,\"#bd3786\"],[0.5555555555555556,\"#d8576b\"],[0.6666666666666666,\"#ed7953\"],[0.7777777777777778,\"#fb9f3a\"],[0.8888888888888888,\"#fdca26\"],[1.0,\"#f0f921\"]]}],\"heatmap\":[{\"type\":\"heatmap\",\"colorbar\":{\"outlinewidth\":0,\"ticks\":\"\"},\"colorscale\":[[0.0,\"#0d0887\"],[0.1111111111111111,\"#46039f\"],[0.2222222222222222,\"#7201a8\"],[0.3333333333333333,\"#9c179e\"],[0.4444444444444444,\"#bd3786\"],[0.5555555555555556,\"#d8576b\"],[0.6666666666666666,\"#ed7953\"],[0.7777777777777778,\"#fb9f3a\"],[0.8888888888888888,\"#fdca26\"],[1.0,\"#f0f921\"]]}],\"heatmapgl\":[{\"type\":\"heatmapgl\",\"colorbar\":{\"outlinewidth\":0,\"ticks\":\"\"},\"colorscale\":[[0.0,\"#0d0887\"],[0.1111111111111111,\"#46039f\"],[0.2222222222222222,\"#7201a8\"],[0.3333333333333333,\"#9c179e\"],[0.4444444444444444,\"#bd3786\"],[0.5555555555555556,\"#d8576b\"],[0.6666666666666666,\"#ed7953\"],[0.7777777777777778,\"#fb9f3a\"],[0.8888888888888888,\"#fdca26\"],[1.0,\"#f0f921\"]]}],\"contourcarpet\":[{\"type\":\"contourcarpet\",\"colorbar\":{\"outlinewidth\":0,\"ticks\":\"\"}}],\"contour\":[{\"type\":\"contour\",\"colorbar\":{\"outlinewidth\":0,\"ticks\":\"\"},\"colorscale\":[[0.0,\"#0d0887\"],[0.1111111111111111,\"#46039f\"],[0.2222222222222222,\"#7201a8\"],[0.3333333333333333,\"#9c179e\"],[0.4444444444444444,\"#bd3786\"],[0.5555555555555556,\"#d8576b\"],[0.6666666666666666,\"#ed7953\"],[0.7777777777777778,\"#fb9f3a\"],[0.8888888888888888,\"#fdca26\"],[1.0,\"#f0f921\"]]}],\"surface\":[{\"type\":\"surface\",\"colorbar\":{\"outlinewidth\":0,\"ticks\":\"\"},\"colorscale\":[[0.0,\"#0d0887\"],[0.1111111111111111,\"#46039f\"],[0.2222222222222222,\"#7201a8\"],[0.3333333333333333,\"#9c179e\"],[0.4444444444444444,\"#bd3786\"],[0.5555555555555556,\"#d8576b\"],[0.6666666666666666,\"#ed7953\"],[0.7777777777777778,\"#fb9f3a\"],[0.8888888888888888,\"#fdca26\"],[1.0,\"#f0f921\"]]}],\"mesh3d\":[{\"type\":\"mesh3d\",\"colorbar\":{\"outlinewidth\":0,\"ticks\":\"\"}}],\"scatter\":[{\"fillpattern\":{\"fillmode\":\"overlay\",\"size\":10,\"solidity\":0.2},\"type\":\"scatter\"}],\"parcoords\":[{\"type\":\"parcoords\",\"line\":{\"colorbar\":{\"outlinewidth\":0,\"ticks\":\"\"}}}],\"scatterpolargl\":[{\"type\":\"scatterpolargl\",\"marker\":{\"colorbar\":{\"outlinewidth\":0,\"ticks\":\"\"}}}],\"bar\":[{\"error_x\":{\"color\":\"#2a3f5f\"},\"error_y\":{\"color\":\"#2a3f5f\"},\"marker\":{\"line\":{\"color\":\"#E5ECF6\",\"width\":0.5},\"pattern\":{\"fillmode\":\"overlay\",\"size\":10,\"solidity\":0.2}},\"type\":\"bar\"}],\"scattergeo\":[{\"type\":\"scattergeo\",\"marker\":{\"colorbar\":{\"outlinewidth\":0,\"ticks\":\"\"}}}],\"scatterpolar\":[{\"type\":\"scatterpolar\",\"marker\":{\"colorbar\":{\"outlinewidth\":0,\"ticks\":\"\"}}}],\"histogram\":[{\"marker\":{\"pattern\":{\"fillmode\":\"overlay\",\"size\":10,\"solidity\":0.2}},\"type\":\"histogram\"}],\"scattergl\":[{\"type\":\"scattergl\",\"marker\":{\"colorbar\":{\"outlinewidth\":0,\"ticks\":\"\"}}}],\"scatter3d\":[{\"type\":\"scatter3d\",\"line\":{\"colorbar\":{\"outlinewidth\":0,\"ticks\":\"\"}},\"marker\":{\"colorbar\":{\"outlinewidth\":0,\"ticks\":\"\"}}}],\"scattermapbox\":[{\"type\":\"scattermapbox\",\"marker\":{\"colorbar\":{\"outlinewidth\":0,\"ticks\":\"\"}}}],\"scatterternary\":[{\"type\":\"scatterternary\",\"marker\":{\"colorbar\":{\"outlinewidth\":0,\"ticks\":\"\"}}}],\"scattercarpet\":[{\"type\":\"scattercarpet\",\"marker\":{\"colorbar\":{\"outlinewidth\":0,\"ticks\":\"\"}}}],\"carpet\":[{\"aaxis\":{\"endlinecolor\":\"#2a3f5f\",\"gridcolor\":\"white\",\"linecolor\":\"white\",\"minorgridcolor\":\"white\",\"startlinecolor\":\"#2a3f5f\"},\"baxis\":{\"endlinecolor\":\"#2a3f5f\",\"gridcolor\":\"white\",\"linecolor\":\"white\",\"minorgridcolor\":\"white\",\"startlinecolor\":\"#2a3f5f\"},\"type\":\"carpet\"}],\"table\":[{\"cells\":{\"fill\":{\"color\":\"#EBF0F8\"},\"line\":{\"color\":\"white\"}},\"header\":{\"fill\":{\"color\":\"#C8D4E3\"},\"line\":{\"color\":\"white\"}},\"type\":\"table\"}],\"barpolar\":[{\"marker\":{\"line\":{\"color\":\"#E5ECF6\",\"width\":0.5},\"pattern\":{\"fillmode\":\"overlay\",\"size\":10,\"solidity\":0.2}},\"type\":\"barpolar\"}],\"pie\":[{\"automargin\":true,\"type\":\"pie\"}]},\"layout\":{\"autotypenumbers\":\"strict\",\"colorway\":[\"#636efa\",\"#EF553B\",\"#00cc96\",\"#ab63fa\",\"#FFA15A\",\"#19d3f3\",\"#FF6692\",\"#B6E880\",\"#FF97FF\",\"#FECB52\"],\"font\":{\"color\":\"#2a3f5f\"},\"hovermode\":\"closest\",\"hoverlabel\":{\"align\":\"left\"},\"paper_bgcolor\":\"white\",\"plot_bgcolor\":\"#E5ECF6\",\"polar\":{\"bgcolor\":\"#E5ECF6\",\"angularaxis\":{\"gridcolor\":\"white\",\"linecolor\":\"white\",\"ticks\":\"\"},\"radialaxis\":{\"gridcolor\":\"white\",\"linecolor\":\"white\",\"ticks\":\"\"}},\"ternary\":{\"bgcolor\":\"#E5ECF6\",\"aaxis\":{\"gridcolor\":\"white\",\"linecolor\":\"white\",\"ticks\":\"\"},\"baxis\":{\"gridcolor\":\"white\",\"linecolor\":\"white\",\"ticks\":\"\"},\"caxis\":{\"gridcolor\":\"white\",\"linecolor\":\"white\",\"ticks\":\"\"}},\"coloraxis\":{\"colorbar\":{\"outlinewidth\":0,\"ticks\":\"\"}},\"colorscale\":{\"sequential\":[[0.0,\"#0d0887\"],[0.1111111111111111,\"#46039f\"],[0.2222222222222222,\"#7201a8\"],[0.3333333333333333,\"#9c179e\"],[0.4444444444444444,\"#bd3786\"],[0.5555555555555556,\"#d8576b\"],[0.6666666666666666,\"#ed7953\"],[0.7777777777777778,\"#fb9f3a\"],[0.8888888888888888,\"#fdca26\"],[1.0,\"#f0f921\"]],\"sequentialminus\":[[0.0,\"#0d0887\"],[0.1111111111111111,\"#46039f\"],[0.2222222222222222,\"#7201a8\"],[0.3333333333333333,\"#9c179e\"],[0.4444444444444444,\"#bd3786\"],[0.5555555555555556,\"#d8576b\"],[0.6666666666666666,\"#ed7953\"],[0.7777777777777778,\"#fb9f3a\"],[0.8888888888888888,\"#fdca26\"],[1.0,\"#f0f921\"]],\"diverging\":[[0,\"#8e0152\"],[0.1,\"#c51b7d\"],[0.2,\"#de77ae\"],[0.3,\"#f1b6da\"],[0.4,\"#fde0ef\"],[0.5,\"#f7f7f7\"],[0.6,\"#e6f5d0\"],[0.7,\"#b8e186\"],[0.8,\"#7fbc41\"],[0.9,\"#4d9221\"],[1,\"#276419\"]]},\"xaxis\":{\"gridcolor\":\"white\",\"linecolor\":\"white\",\"ticks\":\"\",\"title\":{\"standoff\":15},\"zerolinecolor\":\"white\",\"automargin\":true,\"zerolinewidth\":2},\"yaxis\":{\"gridcolor\":\"white\",\"linecolor\":\"white\",\"ticks\":\"\",\"title\":{\"standoff\":15},\"zerolinecolor\":\"white\",\"automargin\":true,\"zerolinewidth\":2},\"scene\":{\"xaxis\":{\"backgroundcolor\":\"#E5ECF6\",\"gridcolor\":\"white\",\"linecolor\":\"white\",\"showbackground\":true,\"ticks\":\"\",\"zerolinecolor\":\"white\",\"gridwidth\":2},\"yaxis\":{\"backgroundcolor\":\"#E5ECF6\",\"gridcolor\":\"white\",\"linecolor\":\"white\",\"showbackground\":true,\"ticks\":\"\",\"zerolinecolor\":\"white\",\"gridwidth\":2},\"zaxis\":{\"backgroundcolor\":\"#E5ECF6\",\"gridcolor\":\"white\",\"linecolor\":\"white\",\"showbackground\":true,\"ticks\":\"\",\"zerolinecolor\":\"white\",\"gridwidth\":2}},\"shapedefaults\":{\"line\":{\"color\":\"#2a3f5f\"}},\"annotationdefaults\":{\"arrowcolor\":\"#2a3f5f\",\"arrowhead\":0,\"arrowwidth\":1},\"geo\":{\"bgcolor\":\"white\",\"landcolor\":\"#E5ECF6\",\"subunitcolor\":\"white\",\"showland\":true,\"showlakes\":true,\"lakecolor\":\"white\"},\"title\":{\"x\":0.05},\"mapbox\":{\"style\":\"light\"}}},\"scene\":{\"domain\":{\"x\":[0.0,1.0],\"y\":[0.0,1.0]},\"xaxis\":{\"title\":{\"text\":\"x\"}},\"yaxis\":{\"title\":{\"text\":\"y\"}},\"zaxis\":{\"title\":{\"text\":\"z\"}}},\"coloraxis\":{\"colorbar\":{\"title\":{\"text\":\"color\"}},\"colorscale\":[[0.0,\"#0d0887\"],[0.1111111111111111,\"#46039f\"],[0.2222222222222222,\"#7201a8\"],[0.3333333333333333,\"#9c179e\"],[0.4444444444444444,\"#bd3786\"],[0.5555555555555556,\"#d8576b\"],[0.6666666666666666,\"#ed7953\"],[0.7777777777777778,\"#fb9f3a\"],[0.8888888888888888,\"#fdca26\"],[1.0,\"#f0f921\"]]},\"legend\":{\"tracegroupgap\":0},\"margin\":{\"t\":60}},                        {\"responsive\": true}                    ).then(function(){\n",
              "                            \n",
              "var gd = document.getElementById('e4422532-491c-46c4-897f-6d91ed74a11b');\n",
              "var x = new MutationObserver(function (mutations, observer) {{\n",
              "        var display = window.getComputedStyle(gd).display;\n",
              "        if (!display || display === 'none') {{\n",
              "            console.log([gd, 'removed!']);\n",
              "            Plotly.purge(gd);\n",
              "            observer.disconnect();\n",
              "        }}\n",
              "}});\n",
              "\n",
              "// Listen for the removal of the full notebook cells\n",
              "var notebookContainer = gd.closest('#notebook-container');\n",
              "if (notebookContainer) {{\n",
              "    x.observe(notebookContainer, {childList: true});\n",
              "}}\n",
              "\n",
              "// Listen for the clearing of the current output cell\n",
              "var outputEl = gd.closest('.output');\n",
              "if (outputEl) {{\n",
              "    x.observe(outputEl, {childList: true});\n",
              "}}\n",
              "\n",
              "                        })                };                            </script>        </div>\n",
              "</body>\n",
              "</html>"
            ]
          },
          "metadata": {}
        }
      ]
    },
    {
      "cell_type": "markdown",
      "source": [
        "List all countries grouped by cluster"
      ],
      "metadata": {
        "id": "yAOP7amdoIMQ"
      }
    },
    {
      "cell_type": "code",
      "source": [
        "def output_words_in_segments(words, segment_length=128, sep=', '):\n",
        "    current_line = [words[0]]\n",
        "\n",
        "    for word in words[1:]:\n",
        "        if sum(len(w) for w in current_line) + len(current_line) + len(word) <= segment_length:\n",
        "            current_line.append(word)\n",
        "        else:\n",
        "            print(sep.join(current_line))\n",
        "            current_line = [word]\n",
        "\n",
        "    if current_line:\n",
        "        print(sep.join(current_line))\n"
      ],
      "metadata": {
        "id": "2FPzbXHLb_q0"
      },
      "execution_count": 54,
      "outputs": []
    },
    {
      "cell_type": "code",
      "source": [
        "for n_cluster in range(n_clusters):\n",
        "    print(f'Cluster {n_cluster}: ')\n",
        "    output_words_in_segments(names[labels == n_cluster].to_list())\n",
        "    print()"
      ],
      "metadata": {
        "colab": {
          "base_uri": "https://localhost:8080/"
        },
        "id": "PVSV7dSNXkyu",
        "outputId": "d44ec3a8-ce97-444e-b83c-8c3e513b5ce5"
      },
      "execution_count": 55,
      "outputs": [
        {
          "output_type": "stream",
          "name": "stdout",
          "text": [
            "Cluster 0: \n",
            "Antigua and Barbuda, Belgium, Belize, Bhutan, Botswana, Bulgaria, Cambodia, Cape Verde, Czech Republic, Estonia, Fiji, Guyana, Hungary\n",
            "Ireland, Jordan, Kyrgyz Republic, Latvia, Lebanon, Lithuania, Macedonia, FYR, Maldives, Mauritius, Moldova, Montenegro, Morocco, Namibia\n",
            "Panama, Paraguay, Samoa, Slovak Republic, Slovenia, St. Vincent and the Grenadines, Tonga, Tunisia, Ukraine, Vanuatu, Vietnam\n",
            "\n",
            "Cluster 1: \n",
            "Algeria, Argentina, Azerbaijan, Bangladesh, Brunei, Egypt, Eritrea, Gabon, Indonesia, Iran, Kazakhstan, Kuwait, Mongolia, Myanmar, Nepal\n",
            "Nigeria, Oman, Pakistan, Qatar, Russia, Saudi Arabia, Sri Lanka, Uzbekistan, Venezuela, Yemen\n",
            "\n",
            "Cluster 2: \n",
            "Afghanistan, Benin, Burkina Faso, Burundi, Cameroon, Central African Republic, Chad, Comoros, Congo, Dem. Rep., Cote d'Ivoire, Gambia\n",
            "Ghana, Guinea, Guinea-Bissau, Iraq, Kenya, Madagascar, Malawi, Mali, Mozambique, Niger, Rwanda, Senegal, Sierra Leone, South Africa, Sudan\n",
            "Tajikistan, Tanzania, Timor-Leste, Uganda, Zambia\n",
            "\n",
            "Cluster 3: \n",
            "Australia, Austria, Brazil, Canada, Denmark, Finland, France, Germany, Greece, Italy, Japan, Netherlands, New Zealand, Norway, Portugal, Spain\n",
            "Sweden, Switzerland, United Kingdom, United States\n",
            "\n",
            "Cluster 4: \n",
            "Luxembourg, Malta, Seychelles, Singapore\n",
            "\n",
            "Cluster 5: \n",
            "Albania, Bahamas, Barbados, Bosnia and Herzegovina, Chile, China, Colombia, Costa Rica, Croatia, Cyprus, Dominican Republic, Ecuador\n",
            "El Salvador, Georgia, Grenada, Guatemala, Iceland, Israel, Peru, Poland, Romania, Serbia, South Korea, Suriname, Turkey, Uruguay\n",
            "\n",
            "Cluster 6: \n",
            "Haiti, Kiribati, Lesotho, Liberia, Micronesia, Fed. Sts., Solomon Islands, Togo\n",
            "\n",
            "Cluster 7: \n",
            "Angola, Armenia, Bahrain, Belarus, Bolivia, Congo, Rep., Equatorial Guinea, India, Jamaica, Lao, Libya, Malaysia, Mauritania, Philippines\n",
            "Thailand, Turkmenistan, United Arab Emirates\n",
            "\n"
          ]
        }
      ]
    },
    {
      "cell_type": "markdown",
      "source": [
        "# Interpretation of Results (ChatGPT)"
      ],
      "metadata": {
        "id": "7hoc0O5Gn28K"
      }
    },
    {
      "cell_type": "markdown",
      "source": [
        "* Cluster 0: Ecotourism and Cultural Diversity Cluster\n",
        "\n",
        "This cluster comprises countries that emphasize ecotourism and cultural diversity as significant drivers of their economies. These countries have rich natural landscapes, diverse cultural heritage, and sustainable tourism practices. They prioritize preserving their unique environments and promoting cultural experiences for visitors.\n",
        "\n",
        "* Cluster 1: Resource-Rich Nations and Political Complexity Cluster\n",
        "\n",
        "This cluster consists of countries that possess abundant natural resources, particularly in the energy sector. These countries often face challenges related to the management and distribution of their resources, leading to complex political dynamics. They have varying degrees of political stability and face distinct socio-economic issues associated with resource-dependent economies.\n",
        "\n",
        "* Cluster 2: Developing Agricultural Economies and Infrastructure Focus Cluster\n",
        "\n",
        "This cluster comprises countries with economies primarily reliant on agriculture. These nations face challenges related to developing their agricultural sectors, improving infrastructure, and addressing issues such as food security. They are actively working towards enhancing their agricultural productivity and strengthening their infrastructure networks.\n",
        "\n",
        "* Cluster 3: Advanced Economies and Global Influence Cluster\n",
        "\n",
        "This cluster represents highly developed economies that hold significant global influence. These countries possess advanced industries, well-established healthcare systems, and stable political institutions. They are key players in the global economy and have substantial international diplomatic and economic influence.\n",
        "\n",
        "* Cluster 4: Small High-Income Nations Cluster\n",
        "\n",
        "This cluster consists of small nations with high-income levels and strong economic stability. These countries often serve as international financial centers, providing favorable business environments and high standards of living. Their compact size allows for efficient governance and strategic economic planning.\n",
        "\n",
        "* Cluster 5: Diverse Economies and Cultural Vibrancy Cluster\n",
        "\n",
        "This cluster includes countries with diverse economies characterized by a mix of industries such as tourism, manufacturing, agriculture, and services. These nations boast rich cultural heritage and vibrant societies. They exhibit varying political landscapes and have unique socio-economic challenges.\n",
        "\n",
        "* Cluster 6: Economically and Infrastructurally Challenged Nations Cluster\n",
        "\n",
        "This cluster comprises countries facing significant economic and infrastructural challenges. These nations struggle with low economic development, limited infrastructure, and high poverty rates. They are actively working towards improving their economies and enhancing their infrastructure to uplift their societies.\n",
        "\n",
        "* Cluster 7: Resource-Driven Economies and Political Diversity Cluster\n",
        "\n",
        "This cluster represents countries whose economies heavily rely on natural resources, such as oil, gas, or minerals. They exhibit diverse political landscapes and face unique challenges associated with managing resource wealth. These nations have varying levels of political stability and are characterized by their resource-driven economies."
      ],
      "metadata": {
        "id": "8tdR9O5Qkyct"
      }
    }
  ]
}