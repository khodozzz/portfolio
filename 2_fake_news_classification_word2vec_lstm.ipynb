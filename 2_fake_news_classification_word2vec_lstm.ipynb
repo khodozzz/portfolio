{
  "nbformat": 4,
  "nbformat_minor": 0,
  "metadata": {
    "colab": {
      "provenance": [],
      "gpuType": "T4",
      "include_colab_link": true
    },
    "kernelspec": {
      "name": "python3",
      "display_name": "Python 3"
    },
    "language_info": {
      "name": "python"
    },
    "gpuClass": "standard"
  },
  "cells": [
    {
      "cell_type": "markdown",
      "metadata": {
        "id": "view-in-github",
        "colab_type": "text"
      },
      "source": [
        "<a href=\"https://colab.research.google.com/github/khodozzz/portfolio/blob/main/2_fake_news_classification_word2vec_lstm.ipynb\" target=\"_parent\"><img src=\"https://colab.research.google.com/assets/colab-badge.svg\" alt=\"Open In Colab\"/></a>"
      ]
    },
    {
      "cell_type": "code",
      "execution_count": null,
      "metadata": {
        "id": "sbMaDtuh1G-b"
      },
      "outputs": [],
      "source": [
        "import numpy as np\n",
        "import pandas as pd\n",
        "import tensorflow as tf\n",
        "import matplotlib.pyplot as plt\n",
        "import seaborn as sns\n",
        "\n",
        "import re, string\n",
        "from wordcloud import WordCloud\n",
        "from collections import Counter\n",
        "import nltk\n",
        "from nltk.corpus import stopwords\n",
        "from nltk.stem import WordNetLemmatizer\n",
        "\n",
        "from sklearn import preprocessing\n",
        "from sklearn.model_selection import train_test_split\n",
        "\n",
        "import tensorflow as tf\n",
        "from tensorflow import keras\n",
        "\n",
        "from sklearn.metrics import accuracy_score, f1_score\n",
        "from sklearn.metrics import classification_report, confusion_matrix\n",
        "\n",
        "import gensim\n",
        "\n",
        "from tensorflow.keras.preprocessing.text import Tokenizer\n",
        "from tensorflow.keras.preprocessing.sequence import pad_sequences\n",
        "from tensorflow.keras.models import Sequential\n",
        "from tensorflow.keras.layers import Dense, Embedding, LSTM, Conv1D, MaxPool1D, Dropout\n",
        "from sklearn.model_selection import train_test_split\n",
        "from sklearn.metrics import classification_report, accuracy_score"
      ]
    },
    {
      "cell_type": "code",
      "source": [
        "import sys\n",
        "import csv\n",
        "\n",
        "csv.field_size_limit(sys.maxsize)"
      ],
      "metadata": {
        "colab": {
          "base_uri": "https://localhost:8080/"
        },
        "id": "wglZCpiSAG0P",
        "outputId": "90af77c2-d961-462f-850e-888d91ca0bb1"
      },
      "execution_count": null,
      "outputs": [
        {
          "output_type": "execute_result",
          "data": {
            "text/plain": [
              "131072"
            ]
          },
          "metadata": {},
          "execution_count": 2
        }
      ]
    },
    {
      "cell_type": "code",
      "source": [
        "news_df = pd.read_csv('WELFake_Dataset.csv', engine='python', error_bad_lines=False)\\\n",
        "    .drop('Unnamed: 0', axis=1)\\\n",
        "    .dropna(subset=['text', 'label'])\n",
        "news_df"
      ],
      "metadata": {
        "colab": {
          "base_uri": "https://localhost:8080/",
          "height": 530
        },
        "id": "0Fj2Fc-R_Dl1",
        "outputId": "91d53e0b-45c9-4ce0-d3ea-d7dbf92b88f5"
      },
      "execution_count": null,
      "outputs": [
        {
          "output_type": "stream",
          "name": "stderr",
          "text": [
            "<ipython-input-46-45e1f649704e>:1: FutureWarning: The error_bad_lines argument has been deprecated and will be removed in a future version. Use on_bad_lines in the future.\n",
            "\n",
            "\n",
            "  news_df = pd.read_csv('WELFake_Dataset.csv', engine='python', error_bad_lines=False)\\\n",
            "Skipping line 45230: unexpected end of data\n"
          ]
        },
        {
          "output_type": "execute_result",
          "data": {
            "text/plain": [
              "                                                   title  \\\n",
              "0      LAW ENFORCEMENT ON HIGH ALERT Following Threat...   \n",
              "1                                                    NaN   \n",
              "2      UNBELIEVABLE! OBAMA’S ATTORNEY GENERAL SAYS MO...   \n",
              "3      Bobby Jindal, raised Hindu, uses story of Chri...   \n",
              "4      SATAN 2: Russia unvelis an image of its terrif...   \n",
              "...                                                  ...   \n",
              "45223  TAKE OUR POLL AND TELL US WHO YOU THINK WON TO...   \n",
              "45224  Kashmiris and Pakistanis subscribe en masse to...   \n",
              "45225  The Russian media just loves the campaign to d...   \n",
              "45226      Senate confirms Mnuchin as Treasury secretary   \n",
              "45227  Two More Hollywood Films For Men That Leave To...   \n",
              "\n",
              "                                                    text  label  \n",
              "0      No comment is expected from Barack Obama Membe...      1  \n",
              "1         Did they post their votes for Hillary already?      1  \n",
              "2       Now, most of the demonstrators gathered last ...      1  \n",
              "3      A dozen politically active pastors came here f...      0  \n",
              "4      The RS-28 Sarmat missile, dubbed Satan 2, will...      1  \n",
              "...                                                  ...    ...  \n",
              "45223                                                         1  \n",
              "45224  Kashmiris and Pakistanis subscribe en masse to...      1  \n",
              "45225  By wmw_admin on November 3, 2016 The Saker — T...      1  \n",
              "45226  WASHINGTON (Reuters) - The U.S. Senate on Mond...      0  \n",
              "45227    Two More Hollywood Films For Men That Leave ...      1  \n",
              "\n",
              "[45208 rows x 3 columns]"
            ],
            "text/html": [
              "\n",
              "  <div id=\"df-d2d406fe-6849-4360-b1b2-9bca78c75cdd\">\n",
              "    <div class=\"colab-df-container\">\n",
              "      <div>\n",
              "<style scoped>\n",
              "    .dataframe tbody tr th:only-of-type {\n",
              "        vertical-align: middle;\n",
              "    }\n",
              "\n",
              "    .dataframe tbody tr th {\n",
              "        vertical-align: top;\n",
              "    }\n",
              "\n",
              "    .dataframe thead th {\n",
              "        text-align: right;\n",
              "    }\n",
              "</style>\n",
              "<table border=\"1\" class=\"dataframe\">\n",
              "  <thead>\n",
              "    <tr style=\"text-align: right;\">\n",
              "      <th></th>\n",
              "      <th>title</th>\n",
              "      <th>text</th>\n",
              "      <th>label</th>\n",
              "    </tr>\n",
              "  </thead>\n",
              "  <tbody>\n",
              "    <tr>\n",
              "      <th>0</th>\n",
              "      <td>LAW ENFORCEMENT ON HIGH ALERT Following Threat...</td>\n",
              "      <td>No comment is expected from Barack Obama Membe...</td>\n",
              "      <td>1</td>\n",
              "    </tr>\n",
              "    <tr>\n",
              "      <th>1</th>\n",
              "      <td>NaN</td>\n",
              "      <td>Did they post their votes for Hillary already?</td>\n",
              "      <td>1</td>\n",
              "    </tr>\n",
              "    <tr>\n",
              "      <th>2</th>\n",
              "      <td>UNBELIEVABLE! OBAMA’S ATTORNEY GENERAL SAYS MO...</td>\n",
              "      <td>Now, most of the demonstrators gathered last ...</td>\n",
              "      <td>1</td>\n",
              "    </tr>\n",
              "    <tr>\n",
              "      <th>3</th>\n",
              "      <td>Bobby Jindal, raised Hindu, uses story of Chri...</td>\n",
              "      <td>A dozen politically active pastors came here f...</td>\n",
              "      <td>0</td>\n",
              "    </tr>\n",
              "    <tr>\n",
              "      <th>4</th>\n",
              "      <td>SATAN 2: Russia unvelis an image of its terrif...</td>\n",
              "      <td>The RS-28 Sarmat missile, dubbed Satan 2, will...</td>\n",
              "      <td>1</td>\n",
              "    </tr>\n",
              "    <tr>\n",
              "      <th>...</th>\n",
              "      <td>...</td>\n",
              "      <td>...</td>\n",
              "      <td>...</td>\n",
              "    </tr>\n",
              "    <tr>\n",
              "      <th>45223</th>\n",
              "      <td>TAKE OUR POLL AND TELL US WHO YOU THINK WON TO...</td>\n",
              "      <td></td>\n",
              "      <td>1</td>\n",
              "    </tr>\n",
              "    <tr>\n",
              "      <th>45224</th>\n",
              "      <td>Kashmiris and Pakistanis subscribe en masse to...</td>\n",
              "      <td>Kashmiris and Pakistanis subscribe en masse to...</td>\n",
              "      <td>1</td>\n",
              "    </tr>\n",
              "    <tr>\n",
              "      <th>45225</th>\n",
              "      <td>The Russian media just loves the campaign to d...</td>\n",
              "      <td>By wmw_admin on November 3, 2016 The Saker — T...</td>\n",
              "      <td>1</td>\n",
              "    </tr>\n",
              "    <tr>\n",
              "      <th>45226</th>\n",
              "      <td>Senate confirms Mnuchin as Treasury secretary</td>\n",
              "      <td>WASHINGTON (Reuters) - The U.S. Senate on Mond...</td>\n",
              "      <td>0</td>\n",
              "    </tr>\n",
              "    <tr>\n",
              "      <th>45227</th>\n",
              "      <td>Two More Hollywood Films For Men That Leave To...</td>\n",
              "      <td>Two More Hollywood Films For Men That Leave ...</td>\n",
              "      <td>1</td>\n",
              "    </tr>\n",
              "  </tbody>\n",
              "</table>\n",
              "<p>45208 rows × 3 columns</p>\n",
              "</div>\n",
              "      <button class=\"colab-df-convert\" onclick=\"convertToInteractive('df-d2d406fe-6849-4360-b1b2-9bca78c75cdd')\"\n",
              "              title=\"Convert this dataframe to an interactive table.\"\n",
              "              style=\"display:none;\">\n",
              "        \n",
              "  <svg xmlns=\"http://www.w3.org/2000/svg\" height=\"24px\"viewBox=\"0 0 24 24\"\n",
              "       width=\"24px\">\n",
              "    <path d=\"M0 0h24v24H0V0z\" fill=\"none\"/>\n",
              "    <path d=\"M18.56 5.44l.94 2.06.94-2.06 2.06-.94-2.06-.94-.94-2.06-.94 2.06-2.06.94zm-11 1L8.5 8.5l.94-2.06 2.06-.94-2.06-.94L8.5 2.5l-.94 2.06-2.06.94zm10 10l.94 2.06.94-2.06 2.06-.94-2.06-.94-.94-2.06-.94 2.06-2.06.94z\"/><path d=\"M17.41 7.96l-1.37-1.37c-.4-.4-.92-.59-1.43-.59-.52 0-1.04.2-1.43.59L10.3 9.45l-7.72 7.72c-.78.78-.78 2.05 0 2.83L4 21.41c.39.39.9.59 1.41.59.51 0 1.02-.2 1.41-.59l7.78-7.78 2.81-2.81c.8-.78.8-2.07 0-2.86zM5.41 20L4 18.59l7.72-7.72 1.47 1.35L5.41 20z\"/>\n",
              "  </svg>\n",
              "      </button>\n",
              "      \n",
              "  <style>\n",
              "    .colab-df-container {\n",
              "      display:flex;\n",
              "      flex-wrap:wrap;\n",
              "      gap: 12px;\n",
              "    }\n",
              "\n",
              "    .colab-df-convert {\n",
              "      background-color: #E8F0FE;\n",
              "      border: none;\n",
              "      border-radius: 50%;\n",
              "      cursor: pointer;\n",
              "      display: none;\n",
              "      fill: #1967D2;\n",
              "      height: 32px;\n",
              "      padding: 0 0 0 0;\n",
              "      width: 32px;\n",
              "    }\n",
              "\n",
              "    .colab-df-convert:hover {\n",
              "      background-color: #E2EBFA;\n",
              "      box-shadow: 0px 1px 2px rgba(60, 64, 67, 0.3), 0px 1px 3px 1px rgba(60, 64, 67, 0.15);\n",
              "      fill: #174EA6;\n",
              "    }\n",
              "\n",
              "    [theme=dark] .colab-df-convert {\n",
              "      background-color: #3B4455;\n",
              "      fill: #D2E3FC;\n",
              "    }\n",
              "\n",
              "    [theme=dark] .colab-df-convert:hover {\n",
              "      background-color: #434B5C;\n",
              "      box-shadow: 0px 1px 3px 1px rgba(0, 0, 0, 0.15);\n",
              "      filter: drop-shadow(0px 1px 2px rgba(0, 0, 0, 0.3));\n",
              "      fill: #FFFFFF;\n",
              "    }\n",
              "  </style>\n",
              "\n",
              "      <script>\n",
              "        const buttonEl =\n",
              "          document.querySelector('#df-d2d406fe-6849-4360-b1b2-9bca78c75cdd button.colab-df-convert');\n",
              "        buttonEl.style.display =\n",
              "          google.colab.kernel.accessAllowed ? 'block' : 'none';\n",
              "\n",
              "        async function convertToInteractive(key) {\n",
              "          const element = document.querySelector('#df-d2d406fe-6849-4360-b1b2-9bca78c75cdd');\n",
              "          const dataTable =\n",
              "            await google.colab.kernel.invokeFunction('convertToInteractive',\n",
              "                                                     [key], {});\n",
              "          if (!dataTable) return;\n",
              "\n",
              "          const docLinkHtml = 'Like what you see? Visit the ' +\n",
              "            '<a target=\"_blank\" href=https://colab.research.google.com/notebooks/data_table.ipynb>data table notebook</a>'\n",
              "            + ' to learn more about interactive tables.';\n",
              "          element.innerHTML = '';\n",
              "          dataTable['output_type'] = 'display_data';\n",
              "          await google.colab.output.renderOutput(dataTable, element);\n",
              "          const docLink = document.createElement('div');\n",
              "          docLink.innerHTML = docLinkHtml;\n",
              "          element.appendChild(docLink);\n",
              "        }\n",
              "      </script>\n",
              "    </div>\n",
              "  </div>\n",
              "  "
            ]
          },
          "metadata": {},
          "execution_count": 46
        }
      ]
    },
    {
      "cell_type": "markdown",
      "source": [
        "# Analysis"
      ],
      "metadata": {
        "id": "Y6YZwl5-CsHy"
      }
    },
    {
      "cell_type": "code",
      "source": [
        "news_df['label'].value_counts()"
      ],
      "metadata": {
        "colab": {
          "base_uri": "https://localhost:8080/"
        },
        "id": "9bYZgTBYBubB",
        "outputId": "5508f41f-0262-4ec3-a4bf-30dcecb801c2"
      },
      "execution_count": null,
      "outputs": [
        {
          "output_type": "execute_result",
          "data": {
            "text/plain": [
              "1    23291\n",
              "0    21917\n",
              "Name: label, dtype: int64"
            ]
          },
          "metadata": {},
          "execution_count": 47
        }
      ]
    },
    {
      "cell_type": "code",
      "source": [
        "plt.figure(figsize = (6, 4))\n",
        "sns.kdeplot(x=news_df['text'].apply(lambda x:len(x.split())),\n",
        "            hue=news_df['label'], palette='winter', fill=True)\n",
        "plt.xlabel('Word Count')\n",
        "plt.show()"
      ],
      "metadata": {
        "colab": {
          "base_uri": "https://localhost:8080/",
          "height": 388
        },
        "id": "prZWzOCyCuau",
        "outputId": "18b60107-8c49-441c-8b58-85e532c6dd88"
      },
      "execution_count": null,
      "outputs": [
        {
          "output_type": "display_data",
          "data": {
            "text/plain": [
              "<Figure size 600x400 with 1 Axes>"
            ],
            "image/png": "[encoded data removed]"
          },
          "metadata": {}
        }
      ]
    },
    {
      "cell_type": "code",
      "source": [
        "lengths = news_df['text'].apply(lambda x:len(x.split()))\n",
        "np.percentile(lengths, 75)"
      ],
      "metadata": {
        "colab": {
          "base_uri": "https://localhost:8080/"
        },
        "id": "MXtcJydKFdyC",
        "outputId": "4adddd36-28d9-4351-fce1-f4c53e51a796"
      },
      "execution_count": null,
      "outputs": [
        {
          "output_type": "execute_result",
          "data": {
            "text/plain": [
              "670.0"
            ]
          },
          "metadata": {},
          "execution_count": 49
        }
      ]
    },
    {
      "cell_type": "code",
      "source": [
        "def wordcloud_text(text):\n",
        "    plt.figure(figsize = (10, 8))\n",
        "    wordcloud = WordCloud(max_words=500, height= 800, width = 1500,  \n",
        "                          background_color=\"black\", colormap= 'viridis').generate(text)\n",
        "    plt.imshow(wordcloud, interpolation=\"bilinear\")\n",
        "    plt.axis('off')\n",
        "    plt.show()"
      ],
      "metadata": {
        "id": "qnU5C2X2DsrE"
      },
      "execution_count": null,
      "outputs": []
    },
    {
      "cell_type": "code",
      "source": [
        "real_text = \" \".join(news_df[news_df['label'] == 1]['text'])\n",
        "fake_text = \" \".join(news_df[news_df['label'] == 0]['text'])"
      ],
      "metadata": {
        "id": "aXPlCLmqDxsV"
      },
      "execution_count": null,
      "outputs": []
    },
    {
      "cell_type": "markdown",
      "source": [
        "# Preproccesing"
      ],
      "metadata": {
        "id": "wk5I7HBLEqEx"
      }
    },
    {
      "cell_type": "code",
      "source": [
        "nltk.download('stopwords')\n",
        "nltk.download('punkt')"
      ],
      "metadata": {
        "colab": {
          "base_uri": "https://localhost:8080/"
        },
        "id": "RI0qoDEFFJVd",
        "outputId": "5623114e-6de4-449d-af9b-5fbd7ebda019"
      },
      "execution_count": null,
      "outputs": [
        {
          "output_type": "stream",
          "name": "stderr",
          "text": [
            "[nltk_data] Downloading package stopwords to /root/nltk_data...\n",
            "[nltk_data]   Package stopwords is already up-to-date!\n",
            "[nltk_data] Downloading package punkt to /root/nltk_data...\n",
            "[nltk_data]   Package punkt is already up-to-date!\n"
          ]
        },
        {
          "output_type": "execute_result",
          "data": {
            "text/plain": [
              "True"
            ]
          },
          "metadata": {},
          "execution_count": 50
        }
      ]
    },
    {
      "cell_type": "code",
      "source": [
        "X = []\n",
        "stop_words = set(nltk.corpus.stopwords.words(\"english\"))\n",
        "tokenizer = nltk.tokenize.RegexpTokenizer(r'\\w+')\n",
        "\n",
        "for row in news_df['text'].values:\n",
        "    tmp = []\n",
        "    sentences = nltk.sent_tokenize(row)\n",
        "    for sent in sentences:\n",
        "        sent = sent.lower()\n",
        "        tokens = tokenizer.tokenize(sent)\n",
        "        filtered_words = [w.strip() for w in tokens if w not in stop_words and len(w) > 1]\n",
        "        tmp.extend(filtered_words)\n",
        "    X.append(tmp)"
      ],
      "metadata": {
        "id": "SqyWdy9MErSp"
      },
      "execution_count": null,
      "outputs": []
    },
    {
      "cell_type": "code",
      "source": [
        "maxlen = int(np.percentile(lengths, 75))\n",
        "\n",
        "w2v_model = gensim.models.Word2Vec(sentences=X, vector_size=maxlen, window=5, min_count=1)"
      ],
      "metadata": {
        "id": "gNCJmndoGUqj"
      },
      "execution_count": null,
      "outputs": []
    },
    {
      "cell_type": "code",
      "source": [
        "w2v_model.save(\"fake_news.model\")"
      ],
      "metadata": {
        "id": "aRmHT88jZyw5"
      },
      "execution_count": null,
      "outputs": []
    },
    {
      "cell_type": "code",
      "source": [
        "len(w2v_model.wv.index_to_key)"
      ],
      "metadata": {
        "colab": {
          "base_uri": "https://localhost:8080/"
        },
        "id": "ine-zmQ7Guec",
        "outputId": "0f0c290e-62cb-4835-c941-056bf596c150"
      },
      "execution_count": null,
      "outputs": [
        {
          "output_type": "execute_result",
          "data": {
            "text/plain": [
              "192801"
            ]
          },
          "metadata": {},
          "execution_count": 58
        }
      ]
    },
    {
      "cell_type": "code",
      "source": [
        "w2v_model.wv.most_similar('money')"
      ],
      "metadata": {
        "colab": {
          "base_uri": "https://localhost:8080/"
        },
        "id": "ndnQCtaqGv03",
        "outputId": "19414c4d-4796-4e60-c67d-ee8ccd53d152"
      },
      "execution_count": null,
      "outputs": [
        {
          "output_type": "execute_result",
          "data": {
            "text/plain": [
              "[('cash', 0.6520571112632751),\n",
              " ('funds', 0.6053627729415894),\n",
              " ('donations', 0.5582549571990967),\n",
              " ('dollars', 0.5418856739997864),\n",
              " ('monies', 0.5367152094841003),\n",
              " ('dime', 0.5001481771469116),\n",
              " ('sums', 0.49575677514076233),\n",
              " ('profits', 0.4785405099391937),\n",
              " ('debts', 0.4763379395008087),\n",
              " ('fund', 0.46978604793548584)]"
            ]
          },
          "metadata": {},
          "execution_count": 59
        }
      ]
    },
    {
      "cell_type": "code",
      "source": [
        "def get_weight_matrix(model, vocab, maxlen):\n",
        "    vocab_size = len(vocab) + 1\n",
        "    weight_matrix = np.zeros((vocab_size, maxlen))\n",
        "    \n",
        "    for word, i in vocab.items():\n",
        "        weight_matrix[i] = model.wv[word]\n",
        "\n",
        "    return weight_matrix"
      ],
      "metadata": {
        "id": "eC3OhhRBJepx"
      },
      "execution_count": null,
      "outputs": []
    },
    {
      "cell_type": "code",
      "source": [
        "tokenizer = Tokenizer()\n",
        "tokenizer.fit_on_texts(X)\n",
        "\n",
        "X = tokenizer.texts_to_sequences(X)"
      ],
      "metadata": {
        "id": "dIa_7FkGH3k8"
      },
      "execution_count": null,
      "outputs": []
    },
    {
      "cell_type": "code",
      "source": [
        "X = pad_sequences(X, maxlen=maxlen)"
      ],
      "metadata": {
        "id": "o151CvJxI_Id"
      },
      "execution_count": null,
      "outputs": []
    },
    {
      "cell_type": "code",
      "source": [
        "embedding_vectors = get_weight_matrix(w2v_model, tokenizer.word_index, maxlen)"
      ],
      "metadata": {
        "id": "xURfyIV2Js4O"
      },
      "execution_count": null,
      "outputs": []
    },
    {
      "cell_type": "code",
      "source": [
        "y = news_df['label'].values"
      ],
      "metadata": {
        "id": "Ff4tkfB_EsKH"
      },
      "execution_count": null,
      "outputs": []
    },
    {
      "cell_type": "code",
      "source": [
        "X_train, X_test, y_train, y_test = train_test_split(X, y) "
      ],
      "metadata": {
        "id": "P_wGqXFNWsTf"
      },
      "execution_count": null,
      "outputs": []
    },
    {
      "cell_type": "markdown",
      "source": [
        "# Model"
      ],
      "metadata": {
        "id": "IqqqyrsyKDNG"
      }
    },
    {
      "cell_type": "code",
      "source": [
        "model = Sequential()\n",
        "\n",
        "model.add(Embedding(len(tokenizer.word_index) + 1, \n",
        "                    output_dim=maxlen, \n",
        "                    weights=[embedding_vectors], \n",
        "                    input_length=maxlen, \n",
        "                    trainable=False))\n",
        "#model.add(Conv1D(activation='relu', filters=4, kernel_size=4))\n",
        "#model.add(MaxPool1D())\n",
        "model.add(LSTM(units=128))\n",
        "model.add(Dropout(0.1))\n",
        "model.add(Dense(16, activation='relu'))\n",
        "model.add(Dropout(0.2))\n",
        "model.add(Dense(1, activation='sigmoid'))\n",
        "\n",
        "model.compile(optimizer='adam', loss='binary_crossentropy', metrics=['acc'])"
      ],
      "metadata": {
        "id": "0TI8bcjiKD54"
      },
      "execution_count": null,
      "outputs": []
    },
    {
      "cell_type": "code",
      "source": [
        "model.summary()"
      ],
      "metadata": {
        "colab": {
          "base_uri": "https://localhost:8080/"
        },
        "id": "My-iZLTYKcwL",
        "outputId": "774f242b-5df9-4d71-dd0c-6732ce36cbb0"
      },
      "execution_count": null,
      "outputs": [
        {
          "output_type": "stream",
          "name": "stdout",
          "text": [
            "Model: \"sequential_1\"\n",
            "_________________________________________________________________\n",
            " Layer (type)                Output Shape              Param #   \n",
            "=================================================================\n",
            " embedding_1 (Embedding)     (None, 670, 670)          129177340 \n",
            "                                                                 \n",
            " lstm_1 (LSTM)               (None, 128)               409088    \n",
            "                                                                 \n",
            " dropout_2 (Dropout)         (None, 128)               0         \n",
            "                                                                 \n",
            " dense_2 (Dense)             (None, 16)                2064      \n",
            "                                                                 \n",
            " dropout_3 (Dropout)         (None, 16)                0         \n",
            "                                                                 \n",
            " dense_3 (Dense)             (None, 1)                 17        \n",
            "                                                                 \n",
            "=================================================================\n",
            "Total params: 129,588,509\n",
            "Trainable params: 411,169\n",
            "Non-trainable params: 129,177,340\n",
            "_________________________________________________________________\n"
          ]
        }
      ]
    },
    {
      "cell_type": "code",
      "source": [
        "history = model.fit(X_train, y_train, validation_split=0.3, epochs=5)"
      ],
      "metadata": {
        "id": "ra4y8aMnKhmQ",
        "colab": {
          "base_uri": "https://localhost:8080/"
        },
        "outputId": "343f3eb3-327c-4963-cbf2-3f84603d864b"
      },
      "execution_count": null,
      "outputs": [
        {
          "output_type": "stream",
          "name": "stdout",
          "text": [
            "Epoch 1/5\n",
            "742/742 [==============================] - 1297s 2s/step - loss: 0.2684 - acc: 0.8949 - val_loss: 0.2005 - val_acc: 0.9229\n",
            "Epoch 2/5\n",
            "742/742 [==============================] - 1329s 2s/step - loss: 0.1593 - acc: 0.9400 - val_loss: 0.1275 - val_acc: 0.9551\n",
            "Epoch 3/5\n",
            "742/742 [==============================] - 1285s 2s/step - loss: 0.1173 - acc: 0.9539 - val_loss: 0.1078 - val_acc: 0.9597\n",
            "Epoch 4/5\n",
            "742/742 [==============================] - 1294s 2s/step - loss: 0.0850 - acc: 0.9684 - val_loss: 0.1056 - val_acc: 0.9622\n",
            "Epoch 5/5\n",
            "742/742 [==============================] - 1339s 2s/step - loss: 0.0665 - acc: 0.9751 - val_loss: 0.1084 - val_acc: 0.9597\n"
          ]
        }
      ]
    },
    {
      "cell_type": "markdown",
      "source": [
        "# Prediction"
      ],
      "metadata": {
        "id": "meZb0hT-OL5X"
      }
    },
    {
      "cell_type": "code",
      "source": [
        "y_pred = (model.predict(X_test) >= 0.5).astype(\"int\")"
      ],
      "metadata": {
        "id": "LwDq-ltXOM9m",
        "colab": {
          "base_uri": "https://localhost:8080/"
        },
        "outputId": "d7406643-b6c8-4d4d-d10a-0d2f27b30fde"
      },
      "execution_count": null,
      "outputs": [
        {
          "output_type": "stream",
          "name": "stdout",
          "text": [
            "354/354 [==============================] - 213s 602ms/step\n"
          ]
        }
      ]
    },
    {
      "cell_type": "code",
      "source": [
        "accuracy_score(y_test, y_pred)"
      ],
      "metadata": {
        "id": "qyW5DCuiOPgI",
        "colab": {
          "base_uri": "https://localhost:8080/"
        },
        "outputId": "df1b74f9-3912-4b17-9bd3-0d313f751fce"
      },
      "execution_count": null,
      "outputs": [
        {
          "output_type": "execute_result",
          "data": {
            "text/plain": [
              "0.9585029198371969"
            ]
          },
          "metadata": {},
          "execution_count": 70
        }
      ]
    }
  ]
}